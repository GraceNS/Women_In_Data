{
 "cells": [
  {
   "cell_type": "code",
   "execution_count": 1,
   "metadata": {},
   "outputs": [],
   "source": [
    "import numpy as np"
   ]
  },
  {
   "cell_type": "code",
   "execution_count": 7,
   "metadata": {},
   "outputs": [
    {
     "name": "stdout",
     "output_type": "stream",
     "text": [
      "[0 1 2 3 4 5 6 7 8 9]\n"
     ]
    }
   ],
   "source": [
    "#Create a 1D array of numbers from 0 to 9\n",
    "\n",
    "task1 = np.arange(10)\n",
    "print(task1)"
   ]
  },
  {
   "cell_type": "code",
   "execution_count": 10,
   "metadata": {},
   "outputs": [
    {
     "name": "stdout",
     "output_type": "stream",
     "text": [
      "[[1. 1. 1.]\n",
      " [1. 1. 1.]\n",
      " [1. 1. 1.]]\n"
     ]
    }
   ],
   "source": [
    "#Create a 3x3 NumPy array of all Boolean value Trues\n",
    "\n",
    "task2 = np.ones(9).reshape(3,3)\n",
    "print(task2)"
   ]
  },
  {
   "cell_type": "code",
   "execution_count": 30,
   "metadata": {},
   "outputs": [
    {
     "name": "stdout",
     "output_type": "stream",
     "text": [
      "[ 2  4  6  8 10]\n"
     ]
    }
   ],
   "source": [
    "#Extract all odd numbers from an array of 1-10\n",
    "\n",
    "task3 = np.arange(1,11)\n",
    "task3 = np.delete(task3, task3%2==1)\n",
    "\n",
    "print(task3)"
   ]
  },
  {
   "cell_type": "code",
   "execution_count": 31,
   "metadata": {},
   "outputs": [
    {
     "name": "stdout",
     "output_type": "stream",
     "text": [
      "[-1  2 -1  4 -1  6 -1  8 -1 10]\n"
     ]
    }
   ],
   "source": [
    "#Replace all odd numbers in an array of 1-10 with the value -1\n",
    "\n",
    "task4 = np.arange(1,11)\n",
    "task4[task4%2==1]=-1\n",
    "\n",
    "print(task4)"
   ]
  },
  {
   "cell_type": "code",
   "execution_count": 33,
   "metadata": {},
   "outputs": [
    {
     "name": "stdout",
     "output_type": "stream",
     "text": [
      "[[ 3  8 13]\n",
      " [18 23 28]]\n"
     ]
    }
   ],
   "source": [
    "#Convert a 1D array to a 2D array with 2 rows\n",
    "\n",
    "task5 = np.arange(3,29,5)\n",
    "task5 = task5.reshape(2,3)\n",
    "\n",
    "print(task5)"
   ]
  },
  {
   "cell_type": "code",
   "execution_count": 45,
   "metadata": {},
   "outputs": [
    {
     "name": "stdout",
     "output_type": "stream",
     "text": [
      "[[0.54494908 0.1528191  0.43185007 0.21388815]\n",
      " [0.51414562 0.00813742 0.17890475 0.88325985]\n",
      " [0.55836704 0.02382407 0.85276445 0.9699807 ]\n",
      " [0.51235405 0.45556134 0.69855343 0.81412924]\n",
      " [0.32898338 0.40929778 0.6849249  0.19149737]\n",
      " [0.12701283 0.88580971 0.80816581 0.13893123]\n",
      " [0.56290117 0.08375102 0.83216398 0.35054237]\n",
      " [0.29629054 0.46909521 0.36989496 0.552662  ]]\n"
     ]
    }
   ],
   "source": [
    "#Create two arrays a and b, and stack these two arrays vertically using np.dot and np.sum to calculate totals\n",
    "\n",
    "a = np.random.rand(4,4)\n",
    "b = np.random.rand(4,4)\n",
    "\n",
    "c = np.vstack((a,b))\n",
    "\n",
    "print(c)"
   ]
  },
  {
   "cell_type": "code",
   "execution_count": 46,
   "metadata": {},
   "outputs": [
    {
     "name": "stdout",
     "output_type": "stream",
     "text": [
      "[[0.50515112 0.49491688 0.93523859 0.39517727]\n",
      " [0.53258615 0.64696329 0.83431898 0.65044593]\n",
      " [0.95413765 0.77607518 1.47012412 0.94523728]\n",
      " [0.86085344 1.05365473 1.60154646 0.85621703]]\n"
     ]
    }
   ],
   "source": [
    "d = np.dot(a,b)\n",
    "\n",
    "print(d)"
   ]
  },
  {
   "cell_type": "code",
   "execution_count": 48,
   "metadata": {},
   "outputs": [
    {
     "name": "stdout",
     "output_type": "stream",
     "text": [
      "13.512644089043718\n"
     ]
    }
   ],
   "source": [
    "s = np.sum(d)\n",
    "\n",
    "print(s)"
   ]
  }
 ],
 "metadata": {
  "kernelspec": {
   "display_name": "Python 3",
   "language": "python",
   "name": "python3"
  },
  "language_info": {
   "codemirror_mode": {
    "name": "ipython",
    "version": 3
   },
   "file_extension": ".py",
   "mimetype": "text/x-python",
   "name": "python",
   "nbconvert_exporter": "python",
   "pygments_lexer": "ipython3",
   "version": "3.8.5"
  }
 },
 "nbformat": 4,
 "nbformat_minor": 4
}
